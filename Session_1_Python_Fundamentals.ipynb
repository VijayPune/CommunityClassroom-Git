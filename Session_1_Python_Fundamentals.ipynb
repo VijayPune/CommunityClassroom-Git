{
  "nbformat": 4,
  "nbformat_minor": 0,
  "metadata": {
    "colab": {
      "provenance": [],
      "authorship_tag": "ABX9TyOJ9KUg/hs3QAZ5DMuw1Qz7",
      "include_colab_link": true
    },
    "kernelspec": {
      "name": "python3",
      "display_name": "Python 3"
    },
    "language_info": {
      "name": "python"
    }
  },
  "cells": [
    {
      "cell_type": "markdown",
      "metadata": {
        "id": "view-in-github",
        "colab_type": "text"
      },
      "source": [
        "<a href=\"https://colab.research.google.com/github/VijayPune/CommunityClassroom-Git/blob/master/Session_1_Python_Fundamentals.ipynb\" target=\"_parent\"><img src=\"https://colab.research.google.com/assets/colab-badge.svg\" alt=\"Open In Colab\"/></a>"
      ]
    },
    {
      "cell_type": "markdown",
      "source": [
        "### 1. Python Output"
      ],
      "metadata": {
        "id": "J5IWZA05m1RM"
      }
    },
    {
      "cell_type": "code",
      "source": [
        "# Python is Case Sensitive. So PRINT() is NOT a function. print() is a function\n",
        "print('Hello World')"
      ],
      "metadata": {
        "colab": {
          "base_uri": "https://localhost:8080/"
        },
        "id": "FeYcX_uSm7BQ",
        "outputId": "1955c51c-f7b0-4041-ebbf-72f36d036926"
      },
      "execution_count": 1,
      "outputs": [
        {
          "output_type": "stream",
          "name": "stdout",
          "text": [
            "Hello World\n"
          ]
        }
      ]
    },
    {
      "cell_type": "code",
      "source": [
        "print(7)"
      ],
      "metadata": {
        "colab": {
          "base_uri": "https://localhost:8080/"
        },
        "id": "S2X7gGqun0Ml",
        "outputId": "450532a9-942c-4c9d-ec2b-db7289987c7c"
      },
      "execution_count": 2,
      "outputs": [
        {
          "output_type": "stream",
          "name": "stdout",
          "text": [
            "7\n"
          ]
        }
      ]
    },
    {
      "cell_type": "code",
      "source": [
        "print(7.560)"
      ],
      "metadata": {
        "colab": {
          "base_uri": "https://localhost:8080/"
        },
        "id": "KpAWCHB1n4UU",
        "outputId": "45f51640-2bb1-40cd-e712-feb573fa65f2"
      },
      "execution_count": 3,
      "outputs": [
        {
          "output_type": "stream",
          "name": "stdout",
          "text": [
            "7.56\n"
          ]
        }
      ]
    },
    {
      "cell_type": "code",
      "source": [
        "print(55/5)"
      ],
      "metadata": {
        "colab": {
          "base_uri": "https://localhost:8080/"
        },
        "id": "JOgFvL-kn7ic",
        "outputId": "3302259e-be3e-48f4-c834-5d31ef8731e1"
      },
      "execution_count": 4,
      "outputs": [
        {
          "output_type": "stream",
          "name": "stdout",
          "text": [
            "11.0\n"
          ]
        }
      ]
    },
    {
      "cell_type": "code",
      "source": [
        "print(True)"
      ],
      "metadata": {
        "colab": {
          "base_uri": "https://localhost:8080/"
        },
        "id": "C5pzmZ7JoDCW",
        "outputId": "f4684995-6f87-4883-a3dc-7b85d4ff7130"
      },
      "execution_count": 5,
      "outputs": [
        {
          "output_type": "stream",
          "name": "stdout",
          "text": [
            "True\n"
          ]
        }
      ]
    },
    {
      "cell_type": "code",
      "source": [
        "print('Hello', 7.78, True, 56/2)"
      ],
      "metadata": {
        "colab": {
          "base_uri": "https://localhost:8080/"
        },
        "id": "XMwmwgZdoT1w",
        "outputId": "2fbd76d6-e377-4043-fbc2-b6e02920fce0"
      },
      "execution_count": 6,
      "outputs": [
        {
          "output_type": "stream",
          "name": "stdout",
          "text": [
            "Hello 7.78 True 28.0\n"
          ]
        }
      ]
    },
    {
      "cell_type": "code",
      "source": [
        "print('Hello','World')  # By Default, the Separator value sep=' '  that is a single space"
      ],
      "metadata": {
        "colab": {
          "base_uri": "https://localhost:8080/"
        },
        "id": "KQIAPQkXoaML",
        "outputId": "a63ca42b-a03c-4500-9a73-8c808489dc1e"
      },
      "execution_count": 7,
      "outputs": [
        {
          "output_type": "stream",
          "name": "stdout",
          "text": [
            "Hello World\n"
          ]
        }
      ]
    },
    {
      "cell_type": "code",
      "source": [
        "print('Hello', 'World', sep='-')"
      ],
      "metadata": {
        "colab": {
          "base_uri": "https://localhost:8080/"
        },
        "id": "6weoxS5noye3",
        "outputId": "f59ff70e-0f65-4d95-f513-77e4abba173b"
      },
      "execution_count": 8,
      "outputs": [
        {
          "output_type": "stream",
          "name": "stdout",
          "text": [
            "Hello-World\n"
          ]
        }
      ]
    },
    {
      "cell_type": "code",
      "source": [
        "print('Hello')        # By Default end = '\\n' That is a New Line is selected at end of the print function and cursor goes to start of next line\n",
        "print('World')\n",
        "print()"
      ],
      "metadata": {
        "colab": {
          "base_uri": "https://localhost:8080/"
        },
        "id": "h1UBoG09paSd",
        "outputId": "e444eea1-0054-47b6-9de9-b20a0f351cc6"
      },
      "execution_count": 9,
      "outputs": [
        {
          "output_type": "stream",
          "name": "stdout",
          "text": [
            "Hello\n",
            "World\n",
            "\n"
          ]
        }
      ]
    },
    {
      "cell_type": "code",
      "source": [
        "print('Hello', end='-')    # Here we changed the Default value of end from New Line to a dash. So cursor was on same line but with one dash.\n",
        "print('World')"
      ],
      "metadata": {
        "colab": {
          "base_uri": "https://localhost:8080/"
        },
        "id": "wHpiO8XqpaVj",
        "outputId": "71ec7c1b-5d0d-4b73-8a27-271abdf68eea"
      },
      "execution_count": 10,
      "outputs": [
        {
          "output_type": "stream",
          "name": "stdout",
          "text": [
            "Hello-World\n"
          ]
        }
      ]
    },
    {
      "cell_type": "markdown",
      "source": [
        "## 2. Data Types or Data Structures"
      ],
      "metadata": {
        "id": "4p173Yv9nUyp"
      }
    },
    {
      "cell_type": "code",
      "source": [
        "# Integers\n",
        "print(5)\n",
        "print(4.67803)\n",
        "# 1*10^309            # Python can handle MAX of 10 to the power of 309 integer values after which it treats as Infinite.\n",
        "print(1e309)\n",
        "print(1e308)          # Python can handle upto 1* 10 ^ 308\n",
        "print(-1e308)"
      ],
      "metadata": {
        "colab": {
          "base_uri": "https://localhost:8080/"
        },
        "id": "IEWjsgn-paaR",
        "outputId": "8e0444e9-d7e5-4aa9-e675-cf4f0853a637"
      },
      "execution_count": 11,
      "outputs": [
        {
          "output_type": "stream",
          "name": "stdout",
          "text": [
            "5\n",
            "4.67803\n",
            "inf\n",
            "1e+308\n",
            "-1e+308\n"
          ]
        }
      ]
    },
    {
      "cell_type": "code",
      "source": [
        "# Decimal or Float\n",
        "print(4.608)\n",
        "print(1.805e300)"
      ],
      "metadata": {
        "colab": {
          "base_uri": "https://localhost:8080/"
        },
        "id": "5cq_e8d4naaJ",
        "outputId": "b471523c-3bb4-4393-8618-1aa9c11c7438"
      },
      "execution_count": 12,
      "outputs": [
        {
          "output_type": "stream",
          "name": "stdout",
          "text": [
            "4.608\n",
            "1.805e+300\n"
          ]
        }
      ]
    },
    {
      "cell_type": "code",
      "source": [
        "# Boolean\n",
        "print(True)         # Python is Case Sensitive. Cannot give print(true)\n",
        "print(False)        # Boolean Type is not same as String Type. So print('True') will just print text True.\n",
        "print('True')\n",
        "print('false')"
      ],
      "metadata": {
        "colab": {
          "base_uri": "https://localhost:8080/"
        },
        "id": "xJFSQ_32sVKo",
        "outputId": "9d73c5f6-7894-4bf1-a9cd-8424200f9248"
      },
      "execution_count": 13,
      "outputs": [
        {
          "output_type": "stream",
          "name": "stdout",
          "text": [
            "True\n",
            "False\n",
            "True\n",
            "false\n"
          ]
        }
      ]
    },
    {
      "cell_type": "code",
      "source": [
        "# Text or String Type       # Always give String in single quotes is a norm BUT can also give in a double quote\n",
        "print('Hello Vijay')\n",
        "print(\"Vijay\")\n",
        "print(\"He is isn't my uncle\")\n",
        "print('He asked, \"Where is my book?\"')"
      ],
      "metadata": {
        "colab": {
          "base_uri": "https://localhost:8080/"
        },
        "id": "h_WDf3wysVv2",
        "outputId": "1f41eba5-5b28-4f71-88ea-d7ad7a5db30c"
      },
      "execution_count": 14,
      "outputs": [
        {
          "output_type": "stream",
          "name": "stdout",
          "text": [
            "Hello Vijay\n",
            "Vijay\n",
            "He is isn't my uncle\n",
            "He asked, \"Where is my book?\"\n"
          ]
        }
      ]
    },
    {
      "cell_type": "code",
      "source": [
        "# Complex NUmbers where a number has a Real Part and Imaginary Part\n",
        "print(5+6j)"
      ],
      "metadata": {
        "colab": {
          "base_uri": "https://localhost:8080/"
        },
        "id": "Ds2PYRPesVzE",
        "outputId": "ed41598c-5fa5-488b-f1c3-e19ad64c4fb6"
      },
      "execution_count": 15,
      "outputs": [
        {
          "output_type": "stream",
          "name": "stdout",
          "text": [
            "(5+6j)\n"
          ]
        }
      ]
    },
    {
      "cell_type": "code",
      "source": [
        "# List[] is a data Type similar to Array in C language\n",
        "# Difference between Array and List[] is that Array can contain only integers while List can contain any Data Type inside it INCLUDING a List inside a List\n",
        "print([1,2,3,4,5])\n",
        "print([1,2,'Vijay', True, 4.506, [2,3,4]])"
      ],
      "metadata": {
        "colab": {
          "base_uri": "https://localhost:8080/"
        },
        "id": "cStuD_9HuKBf",
        "outputId": "f67d0035-ca87-4a0b-e5bb-6500025983ec"
      },
      "execution_count": 16,
      "outputs": [
        {
          "output_type": "stream",
          "name": "stdout",
          "text": [
            "[1, 2, 3, 4, 5]\n",
            "[1, 2, 'Vijay', True, 4.506, [2, 3, 4]]\n"
          ]
        }
      ]
    },
    {
      "cell_type": "code",
      "source": [
        "# Tuple is similar to List[] but with a small difference\n",
        "print((1,2,3))\n",
        "print((1,2,3, True, 'Hello'))"
      ],
      "metadata": {
        "colab": {
          "base_uri": "https://localhost:8080/"
        },
        "id": "5gwHfeHhuSzQ",
        "outputId": "4f6f5011-fabb-4921-a76d-20cb7fdfb531"
      },
      "execution_count": 17,
      "outputs": [
        {
          "output_type": "stream",
          "name": "stdout",
          "text": [
            "(1, 2, 3)\n",
            "(1, 2, 3, True, 'Hello')\n"
          ]
        }
      ]
    },
    {
      "cell_type": "code",
      "source": [
        "# Sets similar to one used in Mathematics\n",
        "print({1,2,3, True, 'Hello'})"
      ],
      "metadata": {
        "colab": {
          "base_uri": "https://localhost:8080/"
        },
        "id": "gwug3BZouS3W",
        "outputId": "42f9c478-5da9-4f99-93c3-cc3d99afa7e9"
      },
      "execution_count": 18,
      "outputs": [
        {
          "output_type": "stream",
          "name": "stdout",
          "text": [
            "{1, 2, 3, 'Hello'}\n"
          ]
        }
      ]
    },
    {
      "cell_type": "code",
      "source": [
        "# Dictionary is a Key:value pair type of data\n",
        "print({'Name': 'Vijay', 'Gender': 'M', 'Weight': 83, 'Height': 6.4 })"
      ],
      "metadata": {
        "colab": {
          "base_uri": "https://localhost:8080/"
        },
        "id": "Gl-LGriHvRGJ",
        "outputId": "07e3a17e-d8cf-4ade-c6bf-f5b8585a6e77"
      },
      "execution_count": 19,
      "outputs": [
        {
          "output_type": "stream",
          "name": "stdout",
          "text": [
            "{'Name': 'Vijay', 'Gender': 'M', 'Weight': 83, 'Height': 6.4}\n"
          ]
        }
      ]
    },
    {
      "cell_type": "code",
      "source": [
        "# type() is a Function which returns the Data Type of whatever you put inside the brackets\n",
        "type(3)"
      ],
      "metadata": {
        "colab": {
          "base_uri": "https://localhost:8080/"
        },
        "id": "dyU_aojew654",
        "outputId": "4e65f7fb-20f0-41c3-9027-5634e61fe136"
      },
      "execution_count": 20,
      "outputs": [
        {
          "output_type": "execute_result",
          "data": {
            "text/plain": [
              "int"
            ]
          },
          "metadata": {},
          "execution_count": 20
        }
      ]
    },
    {
      "cell_type": "code",
      "source": [
        "type(4.5)"
      ],
      "metadata": {
        "colab": {
          "base_uri": "https://localhost:8080/"
        },
        "id": "x_iAt_Gqw7Er",
        "outputId": "2f3eebfa-4785-40d1-eb9a-2d2863728403"
      },
      "execution_count": 21,
      "outputs": [
        {
          "output_type": "execute_result",
          "data": {
            "text/plain": [
              "float"
            ]
          },
          "metadata": {},
          "execution_count": 21
        }
      ]
    },
    {
      "cell_type": "code",
      "source": [
        "type((1,2,3,4))"
      ],
      "metadata": {
        "colab": {
          "base_uri": "https://localhost:8080/"
        },
        "id": "U7T6WMnxw7IJ",
        "outputId": "feef14a7-b9e1-447d-cebc-027b63953258"
      },
      "execution_count": 22,
      "outputs": [
        {
          "output_type": "execute_result",
          "data": {
            "text/plain": [
              "tuple"
            ]
          },
          "metadata": {},
          "execution_count": 22
        }
      ]
    },
    {
      "cell_type": "markdown",
      "source": [
        "## 3. Variables"
      ],
      "metadata": {
        "id": "GsZm8bBwxgaY"
      }
    },
    {
      "cell_type": "code",
      "source": [
        "# Static vs Dynamic Typing\n",
        "# Static vs Dynamic Binding\n",
        "# stylish declaration techniques"
      ],
      "metadata": {
        "id": "wuNdBuNqxj1f"
      },
      "execution_count": 23,
      "outputs": []
    },
    {
      "cell_type": "code",
      "source": [
        "name = 'Vijay'\n",
        "print(name)"
      ],
      "metadata": {
        "colab": {
          "base_uri": "https://localhost:8080/"
        },
        "id": "1hphGEjTyOp6",
        "outputId": "79b6d338-7d27-4298-a54b-6b329ddece59"
      },
      "execution_count": 24,
      "outputs": [
        {
          "output_type": "stream",
          "name": "stdout",
          "text": [
            "Vijay\n"
          ]
        }
      ]
    },
    {
      "cell_type": "code",
      "source": [
        "a = 6\n",
        "b = 6.7\n",
        "print(a+b)"
      ],
      "metadata": {
        "colab": {
          "base_uri": "https://localhost:8080/"
        },
        "id": "aDU7lScMyS3E",
        "outputId": "2e7c4ae2-1ae3-4ba2-e2a1-0b47a3a20a86"
      },
      "execution_count": 25,
      "outputs": [
        {
          "output_type": "stream",
          "name": "stdout",
          "text": [
            "12.7\n"
          ]
        }
      ]
    },
    {
      "cell_type": "code",
      "source": [
        "# Dynamic Typing : In Python, dynamic typing means that the data type of a variable is determined at runtime, not at compile time.\n",
        "# This means you don't need to explicitly declare the data type of a variable before assigning a value to it.\n",
        "\n",
        "\n",
        "x = 'Vijay'\n",
        "print(x, end='    '); print(type(x))\n",
        "\n",
        "x = 10\n",
        "print(x, end='   '); print(type(x))\n",
        "\n",
        "x = 10.67\n",
        "print(x, end='   '); print(type(x))"
      ],
      "metadata": {
        "colab": {
          "base_uri": "https://localhost:8080/"
        },
        "id": "k0Tgpx6xyS6B",
        "outputId": "514fdebe-2fcd-41f6-9047-393c9e043647"
      },
      "execution_count": 26,
      "outputs": [
        {
          "output_type": "stream",
          "name": "stdout",
          "text": [
            "Vijay    <class 'str'>\n",
            "10   <class 'int'>\n",
            "10.67   <class 'float'>\n"
          ]
        }
      ]
    },
    {
      "cell_type": "code",
      "source": [
        "\n",
        "# Static Typing is supported by C, C==, Java\n",
        "# While Python is primarily a dynamically typed language, it has introduced optional static typing through type hints.\n",
        "# This allows you to specify the expected data types of variables, function arguments, and return values.\n",
        "\n",
        "x: str = 'Vijay'\n",
        "print(x, end='    '); print(type(x))\n",
        "\n",
        "x: int = 10\n",
        "print(x, end='   '); print(type(x))\n",
        "\n",
        "x: float = 10.67\n",
        "print(x, end='   '); print(type(x))\n"
      ],
      "metadata": {
        "colab": {
          "base_uri": "https://localhost:8080/"
        },
        "id": "R46ze6O9yTAo",
        "outputId": "62c76f73-c38a-41e1-bfee-ef8605de9787"
      },
      "execution_count": 27,
      "outputs": [
        {
          "output_type": "stream",
          "name": "stdout",
          "text": [
            "Vijay    <class 'str'>\n",
            "10   <class 'int'>\n",
            "10.67   <class 'float'>\n"
          ]
        }
      ]
    },
    {
      "cell_type": "code",
      "source": [
        "# Dynamic Binding : Dynamic binding allows Python to be flexible and adaptable, as variables can change their data\n",
        "# types without explicit declarations. It enables the interpreter to determine the correct behavior of variables at runtime.\n",
        "\n",
        "# Static Binding, supported by Java, C, C++ here variables cannot change its data types without explicit declarations.\n",
        "# Python supports Dynamic Binding and hence is very powerful and versatile to use.\n",
        "\n",
        "# In interview it is a commonly asked question. What is Static & Dynamic Typing And Static & Dynamic Binding.\n",
        "\n",
        "a = 5\n",
        "print(a)\n",
        "\n",
        "a = 'nitish'\n",
        "print(a)"
      ],
      "metadata": {
        "colab": {
          "base_uri": "https://localhost:8080/"
        },
        "id": "hBlNtWk31p9s",
        "outputId": "23bd6254-afc1-4a7f-f840-6fee9607591a"
      },
      "execution_count": 28,
      "outputs": [
        {
          "output_type": "stream",
          "name": "stdout",
          "text": [
            "5\n",
            "nitish\n"
          ]
        }
      ]
    },
    {
      "cell_type": "code",
      "source": [
        "# Declaing multiple variables in one go\n",
        "\n",
        "a,b,c,d = 2,True,7.8,'Vijay'\n",
        "print(a,b,c,d, sep =' , ')\n",
        "\n",
        "# In case you wish to give same value to 2 or more variables\n",
        "a=b=c= 5\n",
        "print(a,b,c)\n",
        "\n",
        "a=b=c= 'Vijay'\n",
        "print(a,b,c)"
      ],
      "metadata": {
        "colab": {
          "base_uri": "https://localhost:8080/"
        },
        "id": "CEobx5jG3dMk",
        "outputId": "8901e5c7-b7c4-4137-bd2a-518267f69b82"
      },
      "execution_count": 29,
      "outputs": [
        {
          "output_type": "stream",
          "name": "stdout",
          "text": [
            "2 , True , 7.8 , Vijay\n",
            "5 5 5\n",
            "Vijay Vijay Vijay\n"
          ]
        }
      ]
    },
    {
      "cell_type": "markdown",
      "source": [
        "## 4. Comments"
      ],
      "metadata": {
        "id": "9vVH9KPa48z6"
      }
    },
    {
      "cell_type": "code",
      "source": [
        "# This is a comment, anything after a hash is ignored by the Python interpretor\n",
        "# Python does not support multiple line comments, you need to put hash sign on each line to start a comment\n",
        "# But there is a Juggadu way to put multiple line comment\n",
        "# Companies like to have comment but not juggadu way\n",
        "# You can also put comment in between like ....\n",
        "a = 4       # this is a comment\n",
        "b = 5\n",
        "print(a+b)  # This again is a comment"
      ],
      "metadata": {
        "colab": {
          "base_uri": "https://localhost:8080/"
        },
        "id": "lczoHW2e4_qS",
        "outputId": "3a57110c-647c-4b29-e37e-9402d860377c"
      },
      "execution_count": 30,
      "outputs": [
        {
          "output_type": "stream",
          "name": "stdout",
          "text": [
            "9\n"
          ]
        }
      ]
    },
    {
      "cell_type": "markdown",
      "source": [
        "## Compilation and Interpretation: A Comparative Overview\n",
        "\n",
        "In the realm of programming languages, two primary methods are used to transform human-readable code into machine-executable instructions: compilation and interpretation. Let's delve into each:\n",
        "\n",
        "Compilation\n",
        "\n",
        "Process:\n",
        "\n",
        "Source Code: The programmer writes code in a high-level language (e.g., C, C++, Java).\n",
        "Compilation: A compiler translates the source code into machine code, which is directly understandable by the computer's processor.\n",
        "Executable File: The compiler generates an executable file containing the machine code.\n",
        "Execution: The executable file can be run independently, without the need for the original source code or the compiler.\n",
        "Key Characteristics:\n",
        "\n",
        "Efficiency: Compiled programs typically execute faster as the machine code is optimized for the specific hardware.\n",
        "Platform Dependence: Compiled programs are often platform-specific, meaning they may not run on different operating systems or architectures without recompilation.\n",
        "Security: Compiled code can be more difficult to reverse-engineer, enhancing security.\n",
        "Distribution: Compiled programs can be distributed as standalone executables.\n",
        "Interpretation\n",
        "\n",
        "Process:\n",
        "\n",
        "Source Code: The programmer writes code in a high-level language (e.g., Python, JavaScript, Ruby).\n",
        "Interpretation: An interpreter reads the source code line by line and executes each instruction directly.\n",
        "Execution: The interpreter translates and executes the code on-the-fly, without creating an intermediate machine code file.\n",
        "Key Characteristics:\n",
        "\n",
        "Platform Independence: Interpreted programs can often run on different platforms with minimal or no modification.\n",
        "Flexibility: Changes to the source code can be implemented and tested quickly without a recompilation step.\n",
        "Debugging: Interpreters often provide better debugging tools and interactive environments.\n",
        "Performance: Interpreted programs generally execute slower than compiled programs due to the overhead of interpretation at runtime.\n",
        "Hybrid Approach\n",
        "\n",
        "Some languages, like Java, use a hybrid approach. Java source code is first compiled into bytecode, a platform-independent intermediate code. This bytecode is then interpreted by a Java Virtual Machine (JVM) at runtime.\n",
        "\n",
        "In Conclusion\n",
        "\n",
        "The choice between compilation and interpretation often depends on factors such as performance requirements, portability needs, and development efficiency. While compiled languages offer better performance and security, interpreted languages provide greater flexibility and platform independence. Many modern languages use a combination of both approaches to balance these trade-offs."
      ],
      "metadata": {
        "id": "MxUGFYa76nl0"
      }
    },
    {
      "cell_type": "markdown",
      "source": [
        "## 5. Keywords and Identifiers"
      ],
      "metadata": {
        "id": "aGehDfr363AR"
      }
    },
    {
      "cell_type": "markdown",
      "source": [],
      "metadata": {
        "id": "_AltHarO6wp5"
      }
    },
    {
      "cell_type": "markdown",
      "source": [
        "### Keywords\n",
        "Keywords are reserved words in Python that have specific meanings and cannot be used as variable names or other identifiers. They form the backbone of the Python language's syntax and structure and there are about 32 such reserved words. Some common keywords include print, if, else, not, input, else, for etc\n",
        "\n",
        "### Identifiers\n",
        "Identifiers are names given to entities in Python, such as variables, functions, classes, and modules. They are used to refer to these entities within the code. To be valid, an identifier must follow these rules:\n",
        "\n",
        "Must start with a letter (a-z, A-Z) or an underscore (_).\n",
        "Subsequent characters can be letters, numbers, or underscores.\n",
        "Case-sensitive.\n",
        "Cannot be a keyword.\n",
        "\n",
        "Examples of valid identifiers:\n",
        "x,\n",
        "my_variable,\n",
        "_private_variable,\n",
        "myFunction,\n",
        "MyClass\n",
        "\n",
        "Examples of invalid identifiers:\n",
        "123variable, (starts with a number)\n",
        "my-variable, (contains a hyphen)\n",
        "class, (keyword)\n",
        "\n",
        "It's important to choose meaningful and descriptive identifiers to improve code readability and maintainability."
      ],
      "metadata": {
        "id": "JO58aJpj7f21"
      }
    },
    {
      "cell_type": "markdown",
      "source": [
        "## 5. User Input"
      ],
      "metadata": {
        "id": "S5TsUchwXhvs"
      }
    },
    {
      "cell_type": "code",
      "source": [
        "name = input('Enter your name : ')\n",
        "print('Your Name is ', name)\n",
        "\n",
        "fnum = input('enter a number :')\n",
        "print(type(fnum))\n"
      ],
      "metadata": {
        "colab": {
          "base_uri": "https://localhost:8080/"
        },
        "id": "73V-s7d9XlPS",
        "outputId": "545b6466-f76a-40fb-c520-8828e1625486"
      },
      "execution_count": 38,
      "outputs": [
        {
          "output_type": "stream",
          "name": "stdout",
          "text": [
            "Enter your name : ajay\n",
            "Your Name is  ajay\n",
            "enter a number :5\n",
            "<class 'str'>\n"
          ]
        }
      ]
    },
    {
      "cell_type": "code",
      "source": [
        "# REMEMBER Python Type Conversion DOES NOT Change the original data BUT Creates a new Object with same data value but new Data Type7\n",
        "fnum = input('Enter first number  : ')\n",
        "snum = input('Enter second number : ')\n",
        "print('Sum of ', fnum, '&', snum, 'is', int(fnum)+int(snum))    # Here we have used EXPLICIT Type Conversion IT IS TEMPORARY2\n",
        "print()\n",
        "\n",
        "print(type(fnum))\n",
        "print(type(snum))"
      ],
      "metadata": {
        "colab": {
          "base_uri": "https://localhost:8080/"
        },
        "id": "RJ7g1JdbYkXG",
        "outputId": "8981c018-c9ee-4e64-8dce-9a79a20f32e1"
      },
      "execution_count": 62,
      "outputs": [
        {
          "output_type": "stream",
          "name": "stdout",
          "text": [
            "Enter first number  : 5\n",
            "Enter second number : 7\n",
            "Sum of  5 & 7 is 12\n",
            "\n",
            "<class 'str'>\n",
            "<class 'str'>\n"
          ]
        }
      ]
    },
    {
      "cell_type": "code",
      "source": [
        "a = 5\n",
        "b = 2\n",
        "print(a/b)\n",
        "print()\n",
        "print(type(a))\n",
        "print(type(b))\n",
        "print(type(a/b))          # Here Python has done IMPLICIT Type Conversion from INT to Float"
      ],
      "metadata": {
        "colab": {
          "base_uri": "https://localhost:8080/"
        },
        "id": "Nrasi_toaER9",
        "outputId": "248ec55e-1071-4955-e875-09eb3ef266cb"
      },
      "execution_count": 44,
      "outputs": [
        {
          "output_type": "stream",
          "name": "stdout",
          "text": [
            "2.5\n",
            "\n",
            "<class 'int'>\n",
            "<class 'int'>\n",
            "<class 'float'>\n"
          ]
        }
      ]
    },
    {
      "cell_type": "code",
      "source": [
        "# Example of Explicit Type Conversion. From String to Int\n",
        "\n",
        "print(int('5'))           # Here we Explicitly converted string 5 into int 5\n",
        "print(type(int('5')))\n",
        "\n",
        "print(int(5.67))        # Here we are converting a Decimal/Float type to int type\n",
        "print(type(int(5.67)))\n"
      ],
      "metadata": {
        "colab": {
          "base_uri": "https://localhost:8080/"
        },
        "id": "8qEdr-GUamK8",
        "outputId": "7c9f801f-bfd9-4c08-8b3d-aee20edbfc11"
      },
      "execution_count": 48,
      "outputs": [
        {
          "output_type": "stream",
          "name": "stdout",
          "text": [
            "5\n",
            "<class 'int'>\n",
            "5\n",
            "<class 'int'>\n"
          ]
        }
      ]
    },
    {
      "cell_type": "code",
      "source": [
        "a = '5'\n",
        "print (a)\n",
        "print(type(a))\n",
        "\n",
        "print(type(int(a)))"
      ],
      "metadata": {
        "colab": {
          "base_uri": "https://localhost:8080/"
        },
        "id": "4d3ukD9Vb6AF",
        "outputId": "dc179ffa-321e-48a7-ea6e-ebaf79246880"
      },
      "execution_count": 55,
      "outputs": [
        {
          "output_type": "stream",
          "name": "stdout",
          "text": [
            "5\n",
            "<class 'str'>\n",
            "<class 'int'>\n"
          ]
        }
      ]
    },
    {
      "cell_type": "code",
      "source": [
        "a = 4\n",
        "print(type(a))\n",
        "print(float(a))\n"
      ],
      "metadata": {
        "colab": {
          "base_uri": "https://localhost:8080/"
        },
        "id": "QOUzeAYMcbMk",
        "outputId": "9f4fef5c-de04-45f5-f36a-cdaaf93d3347"
      },
      "execution_count": 58,
      "outputs": [
        {
          "output_type": "stream",
          "name": "stdout",
          "text": [
            "<class 'int'>\n",
            "4.0\n",
            "<class 'int'>\n"
          ]
        }
      ]
    },
    {
      "cell_type": "code",
      "source": [],
      "metadata": {
        "id": "DkA4n5wjeErj"
      },
      "execution_count": null,
      "outputs": []
    },
    {
      "cell_type": "markdown",
      "source": [
        "## 7. Literals\n",
        "\n",
        "Literals are fixed values that are directly assigned to variables or used in expressions. They represent the raw data that a program operates on. Python supports several types of literals : Numeric, Float, Complex, String, Boolean, Special, List, Tupple, Set, Dictionary etc"
      ],
      "metadata": {
        "id": "iZMZJ97OeM7V"
      }
    },
    {
      "cell_type": "code",
      "source": [
        "x = 10  # Decimal integer\n",
        "y = 0b101  # Binary integer\n",
        "z = 0o12  # Octal integer\n",
        "w = 0xA  # Hexadecimal integer\n",
        "\n",
        "print(x)\n",
        "print(y)\n",
        "print(z)\n",
        "print(w)"
      ],
      "metadata": {
        "colab": {
          "base_uri": "https://localhost:8080/"
        },
        "id": "DjbeYCKFee8H",
        "outputId": "7910227d-5ce9-417a-964a-5e80eb4c7063"
      },
      "execution_count": 63,
      "outputs": [
        {
          "output_type": "stream",
          "name": "stdout",
          "text": [
            "10\n",
            "5\n",
            "10\n",
            "10\n"
          ]
        }
      ]
    },
    {
      "cell_type": "code",
      "source": [
        "pi = 3.14159              # Float Literal\n",
        "complex_num = 2 + 3j      # Complex Literals\n",
        "print(pi)\n",
        "print(complex_num)\n",
        "print(complex_num.real)\n",
        "print(complex_num.imag)"
      ],
      "metadata": {
        "colab": {
          "base_uri": "https://localhost:8080/"
        },
        "id": "Cf4flCjnfLnz",
        "outputId": "6273515d-9ea0-4bc8-8b7a-d248e0872ecf"
      },
      "execution_count": 64,
      "outputs": [
        {
          "output_type": "stream",
          "name": "stdout",
          "text": [
            "3.14159\n",
            "(2+3j)\n",
            "2.0\n",
            "3.0\n"
          ]
        }
      ]
    },
    {
      "cell_type": "code",
      "source": [
        "# String Literals\n",
        "\n",
        "single_quote_string = 'Hello, world!'\n",
        "double_quote_string = \"This is a string with double quotes.\"\n",
        "triple_quote_string = '''This is a multi-line string.\n",
        "It can span multiple lines.'''\n",
        "print(single_quote_string)\n",
        "print(double_quote_string)\n",
        "print(triple_quote_string)"
      ],
      "metadata": {
        "colab": {
          "base_uri": "https://localhost:8080/"
        },
        "id": "H48_uwKtfdXs",
        "outputId": "e67e355c-7a4c-41a4-8a5e-bd16937c5188"
      },
      "execution_count": 67,
      "outputs": [
        {
          "output_type": "stream",
          "name": "stdout",
          "text": [
            "Hello, world!\n",
            "This is a string with double quotes.\n",
            "This is a multi-line string.\n",
            "It can span multiple lines.\n"
          ]
        }
      ]
    },
    {
      "cell_type": "code",
      "source": [
        "# List Literals\n",
        "\n",
        "my_list = [1, 2, 3, 4, 5]\n",
        "print(my_list)\n",
        "\n",
        "# Tuple Literals\n",
        "\n",
        "my_tuple = (1, 2, 3, 4, 5)\n",
        "print(my_tuple)\n",
        "\n",
        "# Set Literals\n",
        "\n",
        "my_set = {1, 2, 3, 4, 5}\n",
        "print(my_set)\n",
        "\n",
        "# Dictionary Literals\n",
        "\n",
        "my_dict = {'a': 1, 'b': 2, 'c': 3}\n",
        "print(my_dict)"
      ],
      "metadata": {
        "colab": {
          "base_uri": "https://localhost:8080/"
        },
        "id": "h_O-N7PSgOs4",
        "outputId": "015b3ac8-979b-43e5-d026-a7b6c47b96dc"
      },
      "execution_count": 68,
      "outputs": [
        {
          "output_type": "stream",
          "name": "stdout",
          "text": [
            "[1, 2, 3, 4, 5]\n",
            "(1, 2, 3, 4, 5)\n",
            "{1, 2, 3, 4, 5}\n",
            "{'a': 1, 'b': 2, 'c': 3}\n"
          ]
        }
      ]
    },
    {
      "cell_type": "code",
      "source": [
        "x = None            # Special Literal - Represents the absence of value\n",
        "                    # In Python we CANNOT declare a empty variable x which you would use latter.\n",
        "                    # So what you can do is declare variable x with inside value as None, which means EMPTY variable\n",
        "print(x)\n",
        "print(type(x))"
      ],
      "metadata": {
        "colab": {
          "base_uri": "https://localhost:8080/"
        },
        "id": "CrEHyoWcgiit",
        "outputId": "30ec2bf9-3fd3-4088-f36f-f28d69493082"
      },
      "execution_count": 75,
      "outputs": [
        {
          "output_type": "stream",
          "name": "stdout",
          "text": [
            "None\n",
            "<class 'NoneType'>\n"
          ]
        }
      ]
    },
    {
      "cell_type": "code",
      "source": [
        "a = True + 4          # Python internally treats Boolean True as value 1 and False as value 0\n",
        "b = False + 5\n",
        "\n",
        "print(a)\n",
        "print(b)"
      ],
      "metadata": {
        "colab": {
          "base_uri": "https://localhost:8080/"
        },
        "id": "Jzw5WAq-g-8W",
        "outputId": "b034f318-9406-478a-871e-3c35152602b0"
      },
      "execution_count": 74,
      "outputs": [
        {
          "output_type": "stream",
          "name": "stdout",
          "text": [
            "5\n",
            "5\n"
          ]
        }
      ]
    },
    {
      "cell_type": "markdown",
      "source": [
        "# END of Session 1"
      ],
      "metadata": {
        "id": "OXc6kbw1iP0G"
      }
    }
  ]
}