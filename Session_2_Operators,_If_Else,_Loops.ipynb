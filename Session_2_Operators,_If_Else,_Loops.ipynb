{
  "nbformat": 4,
  "nbformat_minor": 0,
  "metadata": {
    "colab": {
      "provenance": [],
      "authorship_tag": "ABX9TyN7PjV6VzB1DE2JsrVAmTWo",
      "include_colab_link": true
    },
    "kernelspec": {
      "name": "python3",
      "display_name": "Python 3"
    },
    "language_info": {
      "name": "python"
    }
  },
  "cells": [
    {
      "cell_type": "markdown",
      "metadata": {
        "id": "view-in-github",
        "colab_type": "text"
      },
      "source": [
        "<a href=\"https://colab.research.google.com/github/VijayPune/CommunityClassroom-Git/blob/master/Session_2_Operators%2C_If_Else%2C_Loops.ipynb\" target=\"_parent\"><img src=\"https://colab.research.google.com/assets/colab-badge.svg\" alt=\"Open In Colab\"/></a>"
      ]
    },
    {
      "cell_type": "code",
      "execution_count": null,
      "metadata": {
        "id": "ZmG7f4n2n5Ko"
      },
      "outputs": [],
      "source": []
    },
    {
      "cell_type": "markdown",
      "source": [
        "# 1. Operators in Python\n",
        "####   1. Arithmetic Operators\n",
        "####   2. Relational Operators\n",
        "####   3. Logical Operators\n",
        "####   4. Bitwise Operators\n",
        "####   5. Assignment Operators\n",
        "####   6. Membership Operators"
      ],
      "metadata": {
        "id": "jZC5FVICo9gR"
      }
    },
    {
      "cell_type": "code",
      "source": [
        "# Arithmetic Operators\n",
        "print(5+6)\n",
        "\n",
        "print(6-8)\n",
        "\n",
        "print (5*6)\n",
        "\n",
        "print(5/2)        # This is Integer Division\n",
        "\n",
        "print(5//2)       # This gives Quotient Only\n",
        "\n",
        "print(5%2)        # This gives Reminder\n",
        "\n",
        "print(5**2)"
      ],
      "metadata": {
        "colab": {
          "base_uri": "https://localhost:8080/"
        },
        "id": "tVxtybD7pkHK",
        "outputId": "2b88b000-e082-41c2-8567-61623f97d3ee"
      },
      "execution_count": 1,
      "outputs": [
        {
          "output_type": "stream",
          "name": "stdout",
          "text": [
            "11\n",
            "-2\n",
            "30\n",
            "2.5\n",
            "2\n",
            "1\n",
            "25\n"
          ]
        }
      ]
    },
    {
      "cell_type": "code",
      "source": [
        "# Relational OPerators\n",
        "print(4>5)\n",
        "print(4<5)\n",
        "print(4>=4)\n",
        "print(4<=5)\n",
        "print(4==5)       # Equal to\n",
        "print(4!=5)       # Not Equal to"
      ],
      "metadata": {
        "colab": {
          "base_uri": "https://localhost:8080/"
        },
        "id": "uPdugvoOpLJc",
        "outputId": "7a8a1e59-b3df-444d-aa2e-de31c98ff9f9"
      },
      "execution_count": 2,
      "outputs": [
        {
          "output_type": "stream",
          "name": "stdout",
          "text": [
            "False\n",
            "True\n",
            "True\n",
            "True\n",
            "False\n",
            "True\n"
          ]
        }
      ]
    },
    {
      "cell_type": "code",
      "source": [
        "# Logical Operators\n",
        "print(1 and 0)\n",
        "print(1 or 0)\n",
        "print(not 1)"
      ],
      "metadata": {
        "colab": {
          "base_uri": "https://localhost:8080/"
        },
        "id": "ZoQrq5Nbq3Vx",
        "outputId": "40835724-d637-4d74-94b8-4faa76968e63"
      },
      "execution_count": 3,
      "outputs": [
        {
          "output_type": "stream",
          "name": "stdout",
          "text": [
            "0\n",
            "1\n",
            "False\n"
          ]
        }
      ]
    },
    {
      "cell_type": "code",
      "source": [
        "# Bitwise Operators - They operate on Binary Values\n",
        "# Not much used in Data Science. Maybe in Computer Vision\n",
        "\n",
        "print(2 & 3)    # Bitwise And - print(0010 & 0110) - print(010)\n",
        "print(2 | 3)    # Bitwise Or - print(0010 | 0110) - print(0110)\n",
        "print(2 ^ 3)    # Bitwise Xor - print(0010 ^ 0110) - print(0100)\n",
        "print(~2)       # Bitwise Not - print(~0010) - print(1101)\n",
        "print( 4>>2 )   # Bitwise Left Operator. All Bits shifted to Left\n",
        "print(4 << 2)   # Bitwise Right operator"
      ],
      "metadata": {
        "colab": {
          "base_uri": "https://localhost:8080/"
        },
        "id": "gqCWFJpbq3Y8",
        "outputId": "ee6094bb-1d3f-4408-fe22-b8bfa5f24240"
      },
      "execution_count": 6,
      "outputs": [
        {
          "output_type": "stream",
          "name": "stdout",
          "text": [
            "2\n",
            "3\n",
            "1\n",
            "-3\n",
            "1\n",
            "16\n"
          ]
        }
      ]
    },
    {
      "cell_type": "code",
      "source": [
        "# Assignment Operators '='\n",
        "# There is no notation like a++ or a-- as in C labguage\n",
        "\n",
        "a = 9\n",
        "a += 2        # a = a + 2\n",
        "print(a)\n",
        "a -= 2        # a = a - 2\n",
        "print(a)\n",
        "a *= 2        # a = a * 2\n",
        "print(a)\n",
        "a /= 2        # a = a / 2\n",
        "print(a)\n",
        "a %= 2        # a = a % 2\n",
        "print(a)\n",
        "a //= 2       # a = a // 2\n",
        "print(a)\n",
        "a **= 2       # a = a ** 2\n",
        "print(a)"
      ],
      "metadata": {
        "colab": {
          "base_uri": "https://localhost:8080/"
        },
        "id": "EX8DqT-espqg",
        "outputId": "04db1fa7-c2ae-46e0-d66a-f2fb5b6e0851"
      },
      "execution_count": 12,
      "outputs": [
        {
          "output_type": "stream",
          "name": "stdout",
          "text": [
            "11\n",
            "9\n",
            "18\n",
            "9.0\n",
            "1.0\n",
            "0.0\n",
            "0.0\n"
          ]
        }
      ]
    },
    {
      "cell_type": "code",
      "source": [
        "# Membership Operators - 'in' and 'not in'\n",
        "\n",
        "n = [1,2,3,4]\n",
        "print(5 in n)\n",
        "print(5 not in n)\n",
        "\n",
        "fruits = ['apple', 'banana', 'cherry']\n",
        "print('banana' in fruits)\n",
        "print('orange' not in fruits)\n",
        "\n",
        "print('D' in 'Delhi')\n",
        "print('D' not in 'Delhi')\n",
        "\n",
        "print('are' in 'Are you ok?')\n",
        "print( 1 in [2,3,4,5,1])"
      ],
      "metadata": {
        "colab": {
          "base_uri": "https://localhost:8080/"
        },
        "id": "oly_njdkspup",
        "outputId": "b221ab40-67b2-4b67-ac85-682d9ae5eeda"
      },
      "execution_count": 20,
      "outputs": [
        {
          "output_type": "stream",
          "name": "stdout",
          "text": [
            "False\n",
            "True\n",
            "True\n",
            "True\n",
            "True\n",
            "False\n",
            "False\n",
            "True\n"
          ]
        }
      ]
    },
    {
      "cell_type": "code",
      "source": [
        "# Task : Find the sum of a 3 digit number given by the user.\n",
        "\n",
        "num = int(input('Enter a 3 digit numer : '))\n",
        "\n",
        "a = num % 10\n",
        "num = num // 10\n",
        "b = num % 10\n",
        "num = num // 10\n",
        "c = num % 10\n",
        "\n",
        "print(a+b+c)"
      ],
      "metadata": {
        "colab": {
          "base_uri": "https://localhost:8080/"
        },
        "id": "oypgIsluspyQ",
        "outputId": "c620b65f-1d9d-4e47-f88e-631cb49b41aa"
      },
      "execution_count": 22,
      "outputs": [
        {
          "output_type": "stream",
          "name": "stdout",
          "text": [
            "Enter a 3 digit numer : 367\n",
            "16\n"
          ]
        }
      ]
    },
    {
      "cell_type": "markdown",
      "source": [
        "## If - Else Statement in Python - Used for Branching"
      ],
      "metadata": {
        "id": "CZuoZgCdzbrq"
      }
    },
    {
      "cell_type": "code",
      "source": [
        "# We will write a Login Pgm to check whether the email and pwd given by user is correct or not\n",
        "# So here we got only 2 possibilities, either one or both wrong or both correct\n",
        "\n",
        "user_email = 'vijay@gmail.com'\n",
        "user_pwd = 'abc'\n",
        "\n",
        "chk_email = input('Enter your email : ')\n",
        "chk_pwd = input ('Enter your password : ')\n",
        "\n",
        "if chk_email == user_email and chk_pwd == user_pwd:\n",
        "    print('Login Successful')\n",
        "else:\n",
        "    print('Login Failed')"
      ],
      "metadata": {
        "colab": {
          "base_uri": "https://localhost:8080/"
        },
        "id": "qqgq9I6rsp4v",
        "outputId": "ad0a3689-eb35-469d-f3ba-18b8923e598e"
      },
      "execution_count": 25,
      "outputs": [
        {
          "output_type": "stream",
          "name": "stdout",
          "text": [
            "Enter your email : vijay@gmail.com\n",
            "Enter your password : abc\n",
            "Login Successful\n"
          ]
        }
      ]
    },
    {
      "cell_type": "code",
      "source": [
        "# We will write a Login Pgm to check whether the email and / or pwd given by user is correct or not\n",
        "# So here we got more than 2 possibilities, email wrong or pwd wrong or both wrong\n",
        "\n",
        "email = 'vijay@gmail.com'\n",
        "pwd = '123'\n",
        "\n",
        "chk_email = input('Enter your email : ')\n",
        "chk_pwd = input('Enter your password : ')\n",
        "\n",
        "if chk_email != email and chk_pwd == pwd:\n",
        "    print('Incorrect Email')\n",
        "elif chk_email == email and chk_pwd != pwd:\n",
        "    print('Incorrect Password')\n",
        "elif chk_email != email and chk_pwd != pwd:\n",
        "    print('Both Incorrect - Email & password')\n",
        "else:\n",
        "  print('Login Successful')\n"
      ],
      "metadata": {
        "colab": {
          "base_uri": "https://localhost:8080/"
        },
        "id": "IZMZI49_sp_R",
        "outputId": "61724eae-6e00-4305-869b-4a230da2dd44"
      },
      "execution_count": 30,
      "outputs": [
        {
          "output_type": "stream",
          "name": "stdout",
          "text": [
            "Enter your email : vijay@gmail.com\n",
            "Enter your password : 123\n",
            "Login Successful\n"
          ]
        }
      ]
    },
    {
      "cell_type": "code",
      "source": [
        "# Task - Take 3 numbers from user and print the minimum number out of the 3 given numbers\n",
        "\n",
        "a = int(input('Enter 1st no : '))\n",
        "b = int(input('Enter 2nd no : '))\n",
        "c = int(input('ENter 3rd no : '))\n",
        "\n",
        "if a < b and a < c:\n",
        "    print(a, 'is the lowest numeber out of the given three numbers, viz ', a, ',', b, 'and', c)\n",
        "elif b < a and b < c:\n",
        "    print(b, ' is the lowest number of out of the given three nubers, viz ', a, ',', b, 'and', c)\n",
        "else :\n",
        "    print(c, 'is the lowest number out of the given three numbers, viz ', a, ',', b, 'and', c)"
      ],
      "metadata": {
        "colab": {
          "base_uri": "https://localhost:8080/"
        },
        "id": "Zi56kbUPsqE-",
        "outputId": "cc527d88-242d-40b5-9e15-bb433c955be0"
      },
      "execution_count": 34,
      "outputs": [
        {
          "output_type": "stream",
          "name": "stdout",
          "text": [
            "Enter 1st no : 7\n",
            "Enter 2nd no : 5\n",
            "ENter 3rd no : 9\n",
            "5  is the lowest number of out of the given three nubers, viz  7 , 5 and 9\n"
          ]
        }
      ]
    },
    {
      "cell_type": "code",
      "source": [],
      "metadata": {
        "id": "FEJ3EkmNq3cB"
      },
      "execution_count": null,
      "outputs": []
    }
  ]
}