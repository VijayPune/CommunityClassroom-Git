{
  "cells": [
    {
      "cell_type": "markdown",
      "metadata": {
        "id": "view-in-github",
        "colab_type": "text"
      },
      "source": [
        "<a href=\"https://colab.research.google.com/github/VijayPune/CommunityClassroom-Git/blob/master/print-function.ipynb\" target=\"_parent\"><img src=\"https://colab.research.google.com/assets/colab-badge.svg\" alt=\"Open In Colab\"/></a>"
      ]
    },
    {
      "cell_type": "code",
      "execution_count": null,
      "id": "e2e025af",
      "metadata": {
        "id": "e2e025af",
        "outputId": "973b45a2-0a19-443d-df62-5707509574f9"
      },
      "outputs": [
        {
          "name": "stdout",
          "output_type": "stream",
          "text": [
            "Hello World\n"
          ]
        }
      ],
      "source": [
        "print(\"Hello World\")"
      ]
    },
    {
      "cell_type": "code",
      "execution_count": null,
      "id": "b1aa4d89",
      "metadata": {
        "id": "b1aa4d89",
        "outputId": "cf936591-5f9c-442d-cd17-5e697112c738"
      },
      "outputs": [
        {
          "name": "stdout",
          "output_type": "stream",
          "text": [
            "6\n"
          ]
        }
      ],
      "source": [
        "print(6)"
      ]
    },
    {
      "cell_type": "code",
      "execution_count": null,
      "id": "3d155eaf",
      "metadata": {
        "id": "3d155eaf",
        "outputId": "d3b7e877-80c7-4cea-f2f1-2b262b3b84ac"
      },
      "outputs": [
        {
          "name": "stdout",
          "output_type": "stream",
          "text": [
            "5.6\n"
          ]
        }
      ],
      "source": [
        "print(5.6)"
      ]
    },
    {
      "cell_type": "code",
      "execution_count": null,
      "id": "aac10066",
      "metadata": {
        "id": "aac10066",
        "outputId": "6d78ca39-a2b6-4097-e962-0a1708d81936"
      },
      "outputs": [
        {
          "name": "stdout",
          "output_type": "stream",
          "text": [
            "False\n"
          ]
        }
      ],
      "source": [
        "print(False)"
      ]
    },
    {
      "cell_type": "code",
      "execution_count": null,
      "id": "13bfcbc3",
      "metadata": {
        "id": "13bfcbc3",
        "outputId": "3d0d12b6-9e7a-48a1-c188-39b3ca33d19c"
      },
      "outputs": [
        {
          "name": "stdout",
          "output_type": "stream",
          "text": [
            "India Pakistan Nepal Srilanka\n"
          ]
        }
      ],
      "source": [
        "print(\"India\",\"Pakistan\",\"Nepal\",\"Srilanka\")"
      ]
    },
    {
      "cell_type": "code",
      "execution_count": null,
      "id": "61f54509",
      "metadata": {
        "id": "61f54509",
        "outputId": "8a5c1ccb-d689-40fe-fe35-0d77dd59877b"
      },
      "outputs": [
        {
          "name": "stdout",
          "output_type": "stream",
          "text": [
            "India 5 True\n"
          ]
        }
      ],
      "source": [
        "print(\"India\",5,True)"
      ]
    },
    {
      "cell_type": "code",
      "execution_count": null,
      "id": "3e74300a",
      "metadata": {
        "id": "3e74300a",
        "outputId": "8c178816-dd13-416f-dbdb-e7351e4343aa"
      },
      "outputs": [
        {
          "name": "stdout",
          "output_type": "stream",
          "text": [
            "India/Pakistan/Nepal/Srilanka\n"
          ]
        }
      ],
      "source": [
        "print(\"India\",\"Pakistan\",\"Nepal\",\"Srilanka\",sep='/')"
      ]
    },
    {
      "cell_type": "code",
      "execution_count": null,
      "id": "bb2dbb42",
      "metadata": {
        "id": "bb2dbb42",
        "outputId": "64111bcd-c0bd-46b1-f838-3c4a0e7a55f9"
      },
      "outputs": [
        {
          "name": "stdout",
          "output_type": "stream",
          "text": [
            "India-Pakistan-Nepal-Srilanka\n"
          ]
        }
      ],
      "source": [
        "print(\"India\",\"Pakistan\",\"Nepal\",\"Srilanka\",sep='-')"
      ]
    },
    {
      "cell_type": "code",
      "execution_count": null,
      "id": "4de4a0f1",
      "metadata": {
        "id": "4de4a0f1",
        "outputId": "85147b74-70d7-4df9-c619-c7359b13b1a4"
      },
      "outputs": [
        {
          "name": "stdout",
          "output_type": "stream",
          "text": [
            "Hello\n",
            "World\n"
          ]
        }
      ],
      "source": [
        "print(\"Hello\")\n",
        "print(\"World\")"
      ]
    },
    {
      "cell_type": "code",
      "execution_count": null,
      "id": "1fb48c8c",
      "metadata": {
        "id": "1fb48c8c",
        "outputId": "15ae6419-e300-4f02-a529-757bfa20b50f"
      },
      "outputs": [
        {
          "name": "stdout",
          "output_type": "stream",
          "text": [
            "Hello world\n"
          ]
        }
      ],
      "source": [
        "print(\"Hello\",end=' ')\n",
        "print(\"world\")"
      ]
    },
    {
      "cell_type": "code",
      "execution_count": null,
      "id": "956cf58f",
      "metadata": {
        "id": "956cf58f"
      },
      "outputs": [],
      "source": [
        "print()"
      ]
    }
  ],
  "metadata": {
    "kernelspec": {
      "display_name": "Python 3",
      "language": "python",
      "name": "python3"
    },
    "language_info": {
      "codemirror_mode": {
        "name": "ipython",
        "version": 3
      },
      "file_extension": ".py",
      "mimetype": "text/x-python",
      "name": "python",
      "nbconvert_exporter": "python",
      "pygments_lexer": "ipython3",
      "version": "3.8.8"
    },
    "colab": {
      "provenance": [],
      "include_colab_link": true
    }
  },
  "nbformat": 4,
  "nbformat_minor": 5
}